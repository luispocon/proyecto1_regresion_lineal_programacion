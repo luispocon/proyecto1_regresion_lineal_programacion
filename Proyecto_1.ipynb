{
 "cells": [
  {
   "cell_type": "code",
   "execution_count": 1,
   "id": "808470b4-b692-4f89-bbdc-94b684dcd9c0",
   "metadata": {},
   "outputs": [
    {
     "name": "stderr",
     "output_type": "stream",
     "text": [
      "C:\\Users\\Dell Inspiron\\anaconda3\\lib\\site-packages\\scipy\\__init__.py:146: UserWarning: A NumPy version >=1.16.5 and <1.23.0 is required for this version of SciPy (detected version 1.24.2\n",
      "  warnings.warn(f\"A NumPy version >={np_minversion} and <{np_maxversion}\"\n"
     ]
    }
   ],
   "source": [
    "# Librerias \n",
    "import pandas as pd\n",
    "import numpy as np\n",
    "import matplotlib.pyplot as plt\n",
    "import sklearn\n",
    "from sklearn.model_selection import train_test_split\n",
    "from sklearn.linear_model import LinearRegression\n",
    "\n",
    "import seaborn as sns"
   ]
  },
  {
   "cell_type": "code",
   "execution_count": 2,
   "id": "70fb1999-55f6-405d-a958-0b8c497d9878",
   "metadata": {},
   "outputs": [],
   "source": [
    "# Cargando el archivo y agregando el nombre a cada columna\n",
    "df = pd.DataFrame(np.load(\"proyecto_training_data.npy\")\\\n",
    "                  ,columns = ['sale_price','overallquial','stfloor_square','room','year_built','lot_frontage'])"
   ]
  },
  {
   "cell_type": "code",
   "execution_count": null,
   "id": "32937017-8e2c-4cfe-9370-290849e9d6b0",
   "metadata": {},
   "outputs": [],
   "source": [
    "# Verificando el tipo de cada columna\n",
    "df.info()"
   ]
  },
  {
   "cell_type": "code",
   "execution_count": 3,
   "id": "09541576-664e-4c70-b056-e2aded2dbee4",
   "metadata": {},
   "outputs": [],
   "source": [
    "# explorando los datos que LotFrontage: Linear feet of street connected to property tienen datos vacíos\n",
    "# se procedio a colocar la media aritmetica\n",
    "df['lot_frontage'] = df['lot_frontage'].fillna( df['lot_frontage'].mean() )\n",
    "df['lot_frontage'] = df['lot_frontage'].astype(int)\n",
    "df['year_built'] = df['year_built'].astype(int)\n",
    "df[\"valor1\"] = 1\n",
    "                                               "
   ]
  },
  {
   "cell_type": "markdown",
   "id": "0482140e-c9af-4d39-8e8a-2e4941ca4355",
   "metadata": {},
   "source": [
    "### **Separando los datos 80% entrenamiento y 20% prueba**"
   ]
  },
  {
   "cell_type": "markdown",
   "id": "3da53442-81fe-47ca-9257-50b5ec9fb1f8",
   "metadata": {},
   "source": [
    "##### forma 1 de separar los datos"
   ]
  },
  {
   "cell_type": "code",
   "execution_count": null,
   "id": "dac3c40f-d44e-464e-8cc5-5ad36123d166",
   "metadata": {},
   "outputs": [],
   "source": [
    "#aleatorios = np.random.rand(len(df)) <= 0.80\n",
    "#entrenamiento = df[aleatorios]\n",
    "#prueba = df[~aleatorios]"
   ]
  },
  {
   "cell_type": "code",
   "execution_count": null,
   "id": "9514e732-b14f-49c4-b0fc-b034e412cb10",
   "metadata": {},
   "outputs": [],
   "source": []
  },
  {
   "cell_type": "markdown",
   "id": "8f88f284-d7b6-4966-b0f7-7b9868850a03",
   "metadata": {},
   "source": [
    "##### forma 2 de separar los datos"
   ]
  },
  {
   "cell_type": "code",
   "execution_count": 179,
   "id": "870ba339-1995-405d-b460-e52958501bf8",
   "metadata": {},
   "outputs": [],
   "source": [
    "X = df.iloc[:,1:].values # seleccionando las variables independientes\n",
    "y = df.iloc[:,:1].values # seleccionando la variable dependiente"
   ]
  },
  {
   "cell_type": "code",
   "execution_count": null,
   "id": "e49a9936-ccd7-487e-aa3d-87769e2825d0",
   "metadata": {},
   "outputs": [],
   "source": []
  },
  {
   "cell_type": "code",
   "execution_count": 180,
   "id": "ec730ede-be67-4a9a-b403-a807d8f72140",
   "metadata": {},
   "outputs": [],
   "source": [
    "# Obteniendo el 80% para el entrenamiento y el 20% prueba\n",
    "X_entrenamiento, x_prueba, y_entrenamiento, y_prueba = train_test_split(X,y, test_size= 0.2 , random_state = 0 )\n"
   ]
  },
  {
   "cell_type": "code",
   "execution_count": null,
   "id": "c617e9e2-6730-4de4-9161-8696c356fef5",
   "metadata": {},
   "outputs": [],
   "source": []
  },
  {
   "cell_type": "code",
   "execution_count": null,
   "id": "2cdf7abe-15dc-4238-9255-e27aa34b3ff0",
   "metadata": {},
   "outputs": [],
   "source": [
    "# obteniendo la media, desviación estandar, valor minimo y máximo, el primer, segundo y tercer cuartil\n",
    "df_entrenamiento = (pd.DataFrame(X_entrenamiento)).rename(columns= {0:'overallquial',1:'stfloor_square',2:'room',3:'year_built',4:'lot_frontage' })\n",
    "print(df_entrenamiento.describe())"
   ]
  },
  {
   "cell_type": "code",
   "execution_count": null,
   "id": "1b773e4e-94cb-4609-8576-ec9c2555b8d2",
   "metadata": {},
   "outputs": [],
   "source": [
    "# Rango\n",
    "print(df_entrenamiento.max(axis= 0) - df_entrenamiento.min(axis= 0))"
   ]
  },
  {
   "cell_type": "markdown",
   "id": "dbbbd89f-d7be-4804-b253-60fcee33f163",
   "metadata": {},
   "source": [
    "##### Histogramas\n",
    "> Observando cada una de las variables en estudio, en donde se concentran los datos, es decir \n",
    "> la normalidad de cada variable"
   ]
  },
  {
   "cell_type": "code",
   "execution_count": null,
   "id": "46454335-cc26-4cb1-a7fb-d5ebbf61f7b4",
   "metadata": {},
   "outputs": [],
   "source": [
    "sns.set_style(\"darkgrid\")\n",
    "hist1 = sns.histplot(data= df_entrenamiento , x=\"overallquial\",binwidth = 1)\n",
    "hist1.set_title(\"Overall material and finish quality\")\n",
    "hist1.set(ylabel=\"Cantidad\")\n",
    "plt.show()"
   ]
  },
  {
   "cell_type": "code",
   "execution_count": null,
   "id": "03fb4624-473a-4e25-8a70-f038b52df7d9",
   "metadata": {},
   "outputs": [],
   "source": [
    "sns.set_style(\"darkgrid\")\n",
    "hist2 = sns.histplot(data= df_entrenamiento , x=\"stfloor_square\")\n",
    "hist2.set_title(\"First Floor square feet\")\n",
    "hist2.set(ylabel=\"Cantidad\")\n",
    "plt.show()"
   ]
  },
  {
   "cell_type": "code",
   "execution_count": null,
   "id": "74316470-6be3-4c50-943f-d48b8adb7b8d",
   "metadata": {},
   "outputs": [],
   "source": [
    "sns.set_style(\"darkgrid\")\n",
    "hist3 = sns.histplot(data= df_entrenamiento , x=\"room\", binwidth= 1)\n",
    "hist3.set_title(\"Total rooms above grade (does not include bathrooms)\")\n",
    "hist3.set(ylabel=\"Cantidad\")\n",
    "plt.show()"
   ]
  },
  {
   "cell_type": "code",
   "execution_count": null,
   "id": "9b9af7ff-bd78-4663-b80d-a6d62c1409d2",
   "metadata": {},
   "outputs": [],
   "source": [
    "sns.set_style(\"darkgrid\")\n",
    "hist3 = sns.histplot(data= df_entrenamiento , x=\"year_built\")\n",
    "hist3.set_title(\"Original construction date\")\n",
    "hist3.set(ylabel=\"Cantidad\")\n",
    "plt.show()\n"
   ]
  },
  {
   "cell_type": "code",
   "execution_count": null,
   "id": "2fc8f135-2db0-4942-858d-cf1415995bc9",
   "metadata": {},
   "outputs": [],
   "source": [
    "sns.set_style(\"darkgrid\")\n",
    "hist3 = sns.histplot(data= df_entrenamiento , x=\"lot_frontage\")\n",
    "hist3.set_title(\"Linear feet of street connected to property\")\n",
    "hist3.set(ylabel=\"Cantidad\")\n",
    "plt.show()\n"
   ]
  },
  {
   "cell_type": "markdown",
   "id": "6780c9cf-b0d8-4e1b-af53-d2d9005a1118",
   "metadata": {},
   "source": [
    "##### funcion para los coeficiente de correlación de cada una de las variables"
   ]
  },
  {
   "cell_type": "code",
   "execution_count": null,
   "id": "e33f6991-edd1-48ae-bd14-3e9ff9988174",
   "metadata": {},
   "outputs": [],
   "source": [
    "\n",
    "def coeficiente_correlacion(matriz_y, matriz_x):\n",
    "    \"\"\" Función que genera el coeficiente de correlación entre las variables en estudio \"\"\"\n",
    "    lista = ['overallquial','stfloor_square','room','year_built','lot_frontage']\n",
    "    coeficiente = []\n",
    "    for i in range(0,len(matriz_x[0])-1):\n",
    "        coef = np.corrcoef(matriz_y[:,0],matriz_x[:,i])\n",
    "        a = (\"Correlación entre sales_price y \"+ str(lista[i])+\" \"+ str(round ((coef[0][1]),3) ))\n",
    "        coeficiente.append(str(a))\n",
    "    return coeficiente"
   ]
  },
  {
   "cell_type": "code",
   "execution_count": null,
   "id": "03cb7344-ae6b-4bb4-a647-d4a1b255ad30",
   "metadata": {},
   "outputs": [],
   "source": [
    "# Coeficiente de correlación\n",
    "coeficiente_correlacion(y_entrenamiento,X_entrenamiento)"
   ]
  },
  {
   "cell_type": "markdown",
   "id": "febce504-3be7-4f7d-a9ca-c53d30a54c30",
   "metadata": {},
   "source": [
    "##### Función para las gráficas de dispersión\n",
    "> La gráfica de dispersión permite detectar patrones o relaciones entre las dos variables. Si los puntos están muy dispersos, esto sugiere que no hay una relación fuerte entre las dos variables. Si los puntos están dispuestos en una línea o en una forma no lineal, esto sugiere que hay una relación entre las dos variables."
   ]
  },
  {
   "cell_type": "code",
   "execution_count": null,
   "id": "4e5e1669-7d19-4c72-8a8b-bb9500f6a8ce",
   "metadata": {},
   "outputs": [],
   "source": [
    "def scatter(variable_x, coeficiente=0):\n",
    "    \"\"\" Función que realiza el gráfico de dispersión  \"\"\"\n",
    "    plt.scatter(x = df_entrenamiento[[variable_x]], y= pd.DataFrame(y_entrenamiento),color = 'red')\n",
    "    plt.title(\"sales price and\"+\" \"+variable_x+\" / \"+ \"coef. correlación =\"+coeficiente_correlacion(y_entrenamiento,X_entrenamiento)[coeficiente][-5:]   )\n",
    "    plt.xlabel(variable_x)\n",
    "    plt.ylabel(\"Sales price\")\n",
    "    return plt.show()"
   ]
  },
  {
   "cell_type": "code",
   "execution_count": null,
   "id": "a9e3ccf9-320e-4b7e-b820-d9a5c21025f4",
   "metadata": {},
   "outputs": [],
   "source": [
    "scatter('overallquial') "
   ]
  },
  {
   "cell_type": "code",
   "execution_count": null,
   "id": "ff1d965e-4083-4d2d-9c8c-ae24aca7403b",
   "metadata": {},
   "outputs": [],
   "source": [
    "scatter('stfloor_square',1)"
   ]
  },
  {
   "cell_type": "code",
   "execution_count": null,
   "id": "769ffc96-6c67-46eb-bed4-1f1475f70591",
   "metadata": {},
   "outputs": [],
   "source": [
    "scatter('room',2)"
   ]
  },
  {
   "cell_type": "code",
   "execution_count": null,
   "id": "e1e2d6cd-a0fe-48d1-a680-570f383d8bb6",
   "metadata": {},
   "outputs": [],
   "source": [
    "scatter('year_built',3)"
   ]
  },
  {
   "cell_type": "code",
   "execution_count": null,
   "id": "8157efb7-184e-493d-875f-9a9884672539",
   "metadata": {},
   "outputs": [],
   "source": [
    "scatter('lot_frontage',4)\n"
   ]
  },
  {
   "cell_type": "markdown",
   "id": "65fff68d-9fb2-47f5-ab92-0bd1f4dcebdb",
   "metadata": {},
   "source": [
    "## <center> Regresión lineal   "
   ]
  },
  {
   "cell_type": "markdown",
   "id": "399b675d-b119-40a2-be03-c94283603d73",
   "metadata": {},
   "source": [
    "### <center> ${y = \\beta_0 + \\beta_1 X}  $"
   ]
  },
  {
   "cell_type": "markdown",
   "id": "aad48a8b-a941-4412-b1a1-5aec24ddc4a9",
   "metadata": {},
   "source": [
    "##### Ecuación de la línea recta\n",
    "\n",
    "###  ${y = \\beta_0 + \\beta_1 X}  $\n",
    "En la regresión lineal, la ecuación de la línea recta se utiliza para modelar la relación entre las variables independientes y dependientes. \n",
    "\n",
    "Hay diferentes formas de calcular la regresión lineal matemáticamente y en esta ocasión se muestra por medio de matrices de la siguiente manera:\n",
    "\n",
    "$\\hat{\\beta}= (X'X)^{-1} X'Y$\n",
    "\n",
    "> 1. $ {\\beta} $ = es un vector de coeficientes de la regresión lineal\n",
    "> 2. $ {x} $ = es una matriz de valores de variables independientes, donde cada fila representa una observación y cada columna representa una variable independiente\n",
    "> 3. $ {y} $ = es un vector de valores de la variable dependiente\n",
    "> 4. $ {x}^T $ = es la matriz transpuesta de X\n",
    "> 5. $ ({x}^T {x})^-1 $ = es la matriz inversa de la matriz producto de $ {x}^T y {x} $"
   ]
  },
  {
   "cell_type": "code",
   "execution_count": null,
   "id": "9ae9f458-2a16-4ea2-b54b-6b38cbad809d",
   "metadata": {},
   "outputs": [],
   "source": [
    "# en este ejemplo se muestra como atraves del comando polyfit de numpy se puede calcular la regresion lineal, \n",
    "#  \n",
    "X_ = X_entrenamiento[:,0]\n",
    "Y_ = y_entrenamiento[:,0]\n",
    "coefficients = np.polyfit(X_, Y_, deg=1)\n",
    "print(\" coeficientes de la regresion: \" + \"beta0 : \"+ str(coefficients[1])+\"   beta1 \"+str(coefficients[0]) )\n"
   ]
  },
  {
   "cell_type": "markdown",
   "id": "0a5f2414-1fde-40cc-a1c9-7801f339f716",
   "metadata": {},
   "source": [
    "> donde:\n",
    "> 1. ${y}$ es el precio de la vivienda (la variable dependiente)\n",
    "> 2. ${x}$ es Calidad general de materiales y acabados de la vivienda (variable independiente)"
   ]
  },
  {
   "cell_type": "markdown",
   "id": "912e1539-8ec4-48ae-a509-2669672d3383",
   "metadata": {},
   "source": [
    "##### Función de costo o pérdida\n",
    "Mide el error promedio de los datos sin procesar (originales) y los datos estimados a partir de la regresion\n",
    "\n",
    "\n",
    "##### Error cuadrático medio\n",
    "El ECM representa el promedio de los errores al cuadrado entre las predicciones del modelo y los valores reales de la variable dependiente.\n",
    "\n",
    "$ {ECM} = \\frac{1}{N} \\sum{i=1}^2 ({y_i}- \\hat{y})^2 =   {ECM} = \\frac{1}{N}  \\sum_{i=1}^N  (y_i - \\beta_0 - \\beta_1 X_1)^2  $\n",
    "\n",
    "donde:\n",
    "\n",
    "> 1. $ {n} $ es el número de observaciones\n",
    "> 2. $ {y} $ es el valor real de la variable dependiente\n",
    "> 3. $ \\hat{y}$ es el valor predicho de la variable dependiente\n"
   ]
  },
  {
   "cell_type": "markdown",
   "id": "576b0e3d-788c-42fc-bb85-c394470d4c48",
   "metadata": {},
   "source": [
    "#### El gradiente descendiente\n",
    "##### En los modelos de machine learning se utilizan para  minimizar el error cuadrático medio"
   ]
  },
  {
   "cell_type": "markdown",
   "id": "cb803f26-3c35-4220-adee-044226943446",
   "metadata": {},
   "source": [
    "$ \\frac{\\delta e}{\\delta \\beta_1} = \\frac{1}{n}  \\sum_{i=0}^N ((\\hat{y} - y)* x) $\n",
    "\n",
    "$ \\frac{\\delta e}{\\delta \\beta_0} = \\frac{1}{n}  \\sum_{i=0}^N ((\\hat{y} - y)) $\n",
    "\n",
    "##### Entonces la deriva de cada una es\n",
    "\n",
    "\n",
    "$ \\beta_0 = - \\frac{2}{N} \\sum_{i=1}^N (y_i - \\beta_1 x - \\beta_0) = {\\beta_0}^i+1 = {\\beta_0}^i -{\\alpha} * \\frac{\\delta e}{\\delta \\beta_1} $ \n",
    "\n",
    "$ \\beta_1 = - \\frac{2}{N} \\sum_{i=1}^N x(y_i - \\beta_1 x - \\beta_0)  =   {\\beta_1}^i+1 = {\\beta_1}^i -{\\alpha} * \\frac{\\delta e}{\\delta \\beta_1}    $ \n"
   ]
  },
  {
   "cell_type": "markdown",
   "id": "6b005658-a863-4fd9-b56e-c26072a0e71a",
   "metadata": {},
   "source": [
    "#### Implementación de la regresión lineal en python"
   ]
  },
  {
   "cell_type": "code",
   "execution_count": 187,
   "id": "4f30858a-485c-4108-8735-f7def71a7de3",
   "metadata": {},
   "outputs": [],
   "source": [
    "\n",
    "def pasos(epocas_, learning_rate,iteracion_epocas , x ,y  ):\n",
    "    #función de la regresión lineal\n",
    "    def regresion(beta0,beta1,x):\n",
    "        return  beta0 + beta1*x\n",
    "    #función del cálculo del error\n",
    "    def _error(y,y_estimada):\n",
    "        N = y.shape[0]\n",
    "        error = np.sum((y-y_estimada)**2)/N\n",
    "        return error\n",
    "    \n",
    "    # Funcion del descenso del gradiente\n",
    "    def g_descendiente(w_, b_, alfa, x, y):\n",
    "    # El alfa es el learning rate que se elige, es decir el porcentaje de como cambia o se actualiza los pesos en cada iteración\n",
    "        N = x.shape[0]     # donde N son los datos del modelo\n",
    "\n",
    "    # Calculando las derivadas del gradiente descendiente que permite minimizar la pérdida del Error Cuadrático Medio (ECM)\n",
    "   \n",
    "    # Parametro que le pertenece a la derivada parcial de beta0\n",
    "        beta_0 = -(2/N)*np.sum(y-(w_*x+b_))   \n",
    "    # Parametro que le pertenece a la derivada parcial  de beta1\n",
    "        beta_1 = -(2/N)*np.sum(x*(y-(w_*x+b_)))\n",
    "\n",
    "    # Entonces, ahora se estarán actualizando los pesos de cada parametro, es decir la derivada de beta1 y beta2\n",
    "    #Actualizar los pesos usando la fórmula del gradiente descendente\n",
    "        beta0 = b_ - alfa * beta_0\n",
    "        beta1 = w_ - alfa * beta_1\n",
    "    \n",
    "        return beta1, beta0\n",
    "   \n",
    "    #La razón por la cual se utilizan valores aleatorios para inicializar los parámetros del modelo es que si se inicializan \n",
    "    #los parámetros en cero o en cualquier otro valor fijo, el algoritmo de gradiente descendente puede quedar atrapado en un mínimo local\n",
    "    #y no lograr converger al mínimo global que minimiza el error cuadrático medio. En cambio, al inicializar los parámetros\n",
    "    #en valores aleatorios, se evita este problema y se aumenta la probabilidad de que el algoritmo encuentre el mínimo global.\n",
    "\n",
    "    np.random.seed(2)\n",
    "    beta1 = np.random.randn(1)[0]\n",
    "    beta0 = np.random.randn(1)[0]\n",
    "\n",
    "    alfa = learning_rate # tambien es conocido como learning rate 0.0009\n",
    "    epocas = epocas_ # Número de epocas que tendrá el modelo\n",
    "\n",
    "\n",
    "    error = np.zeros((epocas,1))\n",
    "    \n",
    "    for i in range(epocas):\n",
    "    # Descenso del gradiente que permite en cada iteracion actualizar el peso de cada valor\n",
    "        [beta1, beta0] = g_descendiente(beta1,beta0,alfa,x,y)\n",
    "\n",
    "    # Y estimada de la regresión\n",
    "        y_estimada = regresion(beta0,beta1,x)\n",
    "\n",
    "     # Error Cuadrático Medio = ECM\n",
    "        N = y.shape[0]\n",
    "        error[i] = _error(y,y_estimada)\n",
    "    \n",
    "    # Imprimir resultados cada 1000 epochs\n",
    "        if (i+1)% iteracion_epocas == 0:  # cadad cuanto es necesario imprimir los datos por ejemplo de 100, se requiere de 10 en 10\n",
    "            print(\"Época {}\".format(i+1)) # imprime las épocas\n",
    "            print(\"    beta1: {:.1f}\".format(beta1), \" beta0: {:.1f}\".format(beta0)) # imprime los coeficientes\n",
    "            print(\"    error: {}\".format(error[i])) # imprime el erro de cada iteración \n",
    "            print(\"---------------------------------------\")\n",
    "    \n",
    "    # Plot del descendiente del gradiente\n",
    "\n",
    "    plt.plot(range(epocas_), error)\n",
    "    plt.xlabel('Época')\n",
    "    plt.title(\"Descenso del gradiente, Época = {epocas} \".format(epocas =str( epocas_)  ), fontsize = 13 )\n",
    "    plt.suptitle(\"Gráfica\")\n",
    "    plt.ylabel('Error cuadradico medio')\n",
    "    plt.show()\n",
    "    \n",
    "    return beta0,beta1, epocas,error, plt.show() "
   ]
  },
  {
   "cell_type": "code",
   "execution_count": 244,
   "id": "f0a9ce57-7db3-4b39-b894-a9d7bd384608",
   "metadata": {},
   "outputs": [
    {
     "name": "stdout",
     "output_type": "stream",
     "text": [
      "Época 20\n",
      "    beta1: 24102.9  beta0: 3582.4\n",
      "    error: [4.08632247e+09]\n",
      "---------------------------------------\n",
      "Época 40\n",
      "    beta1: 28701.2  beta0: 4110.8\n",
      "    error: [2.8324006e+09]\n",
      "---------------------------------------\n",
      "Época 60\n",
      "    beta1: 29597.6  beta0: 4059.9\n",
      "    error: [2.78551186e+09]\n",
      "---------------------------------------\n",
      "Época 80\n",
      "    beta1: 29791.4  beta0: 3899.2\n",
      "    error: [2.78210731e+09]\n",
      "---------------------------------------\n",
      "Época 100\n",
      "    beta1: 29851.8  beta0: 3718.1\n",
      "    error: [2.78027549e+09]\n",
      "---------------------------------------\n"
     ]
    },
    {
     "data": {
      "image/png": "[encoded data removed]",
      "text/plain": [
       "<Figure size 432x288 with 1 Axes>"
      ]
     },
     "metadata": {
      "needs_background": "light"
     },
     "output_type": "display_data"
    }
   ],
   "source": [
    "p = pasos(100,0.001,20,  X_entrenamiento[:,0], y_entrenamiento[:,0] )"
   ]
  },
  {
   "cell_type": "code",
   "execution_count": 191,
   "id": "ec6e98fa-e9a5-44bd-a5c4-255e495dbd1c",
   "metadata": {},
   "outputs": [
    {
     "data": {
      "image/png": "[encoded data removed]",
      "text/plain": [
       "<Figure size 432x288 with 1 Axes>"
      ]
     },
     "metadata": {
      "needs_background": "light"
     },
     "output_type": "display_data"
    }
   ],
   "source": [
    "x_p = X_entrenamiento[:,0]\n",
    "y_estimada = p[0]+p[1]*x_p\n",
    "\n",
    "plt.scatter(x_p,y_entrenamiento[:,0])\n",
    "plt.plot(x_p,y_estimada,'r')\n",
    "plt.title(\"Gráfica de dispersión (Entrenamientos)\")\n",
    "plt.xlabel('x')\n",
    "plt.ylabel('Prices Sales')\n",
    "plt.show()"
   ]
  },
  {
   "cell_type": "code",
   "execution_count": 193,
   "id": "d80ec4bb-ce34-49cb-8bab-4b184a923eb3",
   "metadata": {},
   "outputs": [
    {
     "data": {
      "image/png": "[encoded data removed]",
      "text/plain": [
       "<Figure size 432x288 with 1 Axes>"
      ]
     },
     "metadata": {
      "needs_background": "light"
     },
     "output_type": "display_data"
    }
   ],
   "source": [
    "x_pr = x_prueba[:,0]\n",
    "y_estimada= p[0]+p[1]*x_p\n",
    "\n",
    "plt.scatter(x_pr,y_prueba[:,0])\n",
    "plt.plot(x_p,y_estimada,'r')\n",
    "plt.title(\"Gráfica de dispersión (Prueba)\")\n",
    "plt.xlabel('x')\n",
    "plt.ylabel('Prices Sales')\n",
    "plt.show()"
   ]
  },
  {
   "cell_type": "code",
   "execution_count": 243,
   "id": "ec4a0978-01f4-4087-bfde-34890fc685dd",
   "metadata": {},
   "outputs": [
    {
     "data": {
      "text/html": [
       "<div>\n",
       "<style scoped>\n",
       "    .dataframe tbody tr th:only-of-type {\n",
       "        vertical-align: middle;\n",
       "    }\n",
       "\n",
       "    .dataframe tbody tr th {\n",
       "        vertical-align: top;\n",
       "    }\n",
       "\n",
       "    .dataframe thead th {\n",
       "        text-align: right;\n",
       "    }\n",
       "</style>\n",
       "<table border=\"1\" class=\"dataframe\">\n",
       "  <thead>\n",
       "    <tr style=\"text-align: right;\">\n",
       "      <th></th>\n",
       "      <th>y_estimado</th>\n",
       "      <th>valores_de_x</th>\n",
       "    </tr>\n",
       "  </thead>\n",
       "  <tbody>\n",
       "    <tr>\n",
       "      <th>0</th>\n",
       "      <td>182828.741219</td>\n",
       "      <td>6.0</td>\n",
       "    </tr>\n",
       "    <tr>\n",
       "      <th>1</th>\n",
       "      <td>182828.741219</td>\n",
       "      <td>6.0</td>\n",
       "    </tr>\n",
       "  </tbody>\n",
       "</table>\n",
       "</div>"
      ],
      "text/plain": [
       "      y_estimado  valores_de_x\n",
       "0  182828.741219           6.0\n",
       "1  182828.741219           6.0"
      ]
     },
     "execution_count": 243,
     "metadata": {},
     "output_type": "execute_result"
    }
   ],
   "source": [
    "\n",
    "def prediccion(x_prueba):\n",
    "    lista=x_prueba\n",
    "    y_predictivo = []\n",
    "    x_valores = []\n",
    "    for i in range(0 , (len(x_prueba)) ):\n",
    "        y_predictivo.append((np.array(p[0])).astype(int) + (np.array(p[1]))*list(lista)[i])\n",
    "        x_valores.append(list(lista)[i] )\n",
    "    \n",
    "    df = pd.DataFrame()\n",
    "    df[\"y_estimado\"] = pd.Series(y_predictivo)\n",
    "    df[\"valores_de_x\"] = pd.Series(x_valores)\n",
    "    return df\n",
    "\n",
    "prediccion(x_prueba[:,0]).head(2)"
   ]
  },
  {
   "cell_type": "markdown",
   "id": "08b8899a-0987-4d69-ba16-e660cfd7136e",
   "metadata": {},
   "source": [
    "## Usando sklearn"
   ]
  },
  {
   "cell_type": "code",
   "execution_count": 213,
   "id": "1dc91651-b448-43e1-8e68-d8a376714a6a",
   "metadata": {},
   "outputs": [],
   "source": [
    "# Datos\n",
    "X_s = df.iloc[:, 1:2].values\n",
    "y_s = df.iloc[:, :1].values "
   ]
  },
  {
   "cell_type": "code",
   "execution_count": null,
   "id": "eaf02493-51a8-4b88-ba1c-b1c84692d141",
   "metadata": {},
   "outputs": [],
   "source": []
  },
  {
   "cell_type": "code",
   "execution_count": 214,
   "id": "5aac6aed-2a81-45a4-b60e-cfdf62a23a51",
   "metadata": {},
   "outputs": [
    {
     "data": {
      "image/png": "[encoded data removed]",
      "text/plain": [
       "<Figure size 432x288 with 1 Axes>"
      ]
     },
     "metadata": {
      "needs_background": "light"
     },
     "output_type": "display_data"
    },
    {
     "data": {
      "image/png": "[encoded data removed]",
      "text/plain": [
       "<Figure size 432x288 with 1 Axes>"
      ]
     },
     "metadata": {
      "needs_background": "light"
     },
     "output_type": "display_data"
    }
   ],
   "source": [
    "# Obteniendo el 80% para el entrenamiento y el 20% prueba\n",
    "\n",
    "X_entrenamiento_s, x_prueba_s, y_entrenamiento_s, y_prueba_s = train_test_split(X_s, y_s, test_size =0.2, random_state = 0)\n",
    "\n",
    "# Ajustando la regresión lineal simple a los datos de entrenamiento\n",
    "regresion = LinearRegression()\n",
    "regresion.fit(X_entrenamiento_s, y_entrenamiento_s)\n",
    "\n",
    "# Prediccion de los resultados\n",
    "y_pred = regresion.predict(x_prueba_s)\n",
    "\n",
    "# Resultados con el de entrenamiento\n",
    "plt.scatter(X_entrenamiento_s, y_entrenamiento_s, color = 'blue')\n",
    "plt.plot(X_entrenamiento_s, regresion.predict(X_entrenamiento_s), color = 'red')\n",
    "plt.title('Gráfica de dispersión (Entrenamientos)')\n",
    "plt.xlabel('Variable independiente')\n",
    "plt.ylabel('Sales Prices')\n",
    "plt.show()\n",
    "\n",
    "# Resultados con el de prueba (test)\n",
    "plt.scatter(x_prueba_s, y_prueba_s, color = 'blue')\n",
    "plt.plot(X_entrenamiento_s, regresion.predict(X_entrenamiento_s), color = 'red')\n",
    "plt.title('Gráfica de dispersión (Prueba)')\n",
    "plt.xlabel('Variable independiente')\n",
    "plt.ylabel('Sales Prices')\n",
    "plt.show()"
   ]
  },
  {
   "cell_type": "markdown",
   "id": "ccbe1849-aed0-4cfb-9d90-af15e4c67881",
   "metadata": {},
   "source": [
    "## Comparación de $ \\hat{y} $  del modelo manual vs. sklearn"
   ]
  },
  {
   "cell_type": "code",
   "execution_count": 217,
   "id": "af1eeb90-6237-446a-8d93-b4fe7c830c7b",
   "metadata": {},
   "outputs": [],
   "source": [
    "y_estimada_sklearn =   pd.Series(np.squeeze(regresion.predict(X_entrenamiento_s)))"
   ]
  },
  {
   "cell_type": "code",
   "execution_count": null,
   "id": "cf588344-20d9-4d82-a2e9-cfb9bf237627",
   "metadata": {},
   "outputs": [],
   "source": [
    "y_estimada_manual =  pd.Series( np.squeeze( p[0]+p[1]*X_entrenamiento[:,0]))"
   ]
  },
  {
   "cell_type": "code",
   "execution_count": 240,
   "id": "acc5d1a1-8c6e-44ad-9bae-797b62843138",
   "metadata": {},
   "outputs": [],
   "source": [
    "df_estimada = pd.DataFrame()\n",
    "df_estimada['y_estimada_sklearn'] = y_estimada_sklearn\n",
    "df_estimada['y_estimada_manual'] = y_estimada_manual\n",
    "df_estimada[\"X_entrenamiento\"] = pd.Series( np.squeeze(X_entrenamiento_s))\n",
    "df_estimada[\"promedio_sk_man\"] = (df_estimada.y_estimada_sklearn +  df_estimada.y_estimada_manual)/2 "
   ]
  },
  {
   "cell_type": "code",
   "execution_count": 251,
   "id": "b0343ba0-38c5-4d5b-abd0-2c216b02a8ea",
   "metadata": {},
   "outputs": [
    {
     "data": {
      "text/html": [
       "<div>\n",
       "<style scoped>\n",
       "    .dataframe tbody tr th:only-of-type {\n",
       "        vertical-align: middle;\n",
       "    }\n",
       "\n",
       "    .dataframe tbody tr th {\n",
       "        vertical-align: top;\n",
       "    }\n",
       "\n",
       "    .dataframe thead th {\n",
       "        text-align: right;\n",
       "    }\n",
       "</style>\n",
       "<table border=\"1\" class=\"dataframe\">\n",
       "  <thead>\n",
       "    <tr style=\"text-align: right;\">\n",
       "      <th></th>\n",
       "      <th>y_estimada_sklearn</th>\n",
       "      <th>y_estimada_manual</th>\n",
       "      <th>X_entrenamiento</th>\n",
       "      <th>promedio_sk_man</th>\n",
       "    </tr>\n",
       "  </thead>\n",
       "  <tbody>\n",
       "    <tr>\n",
       "      <th>0</th>\n",
       "      <td>313043.958877</td>\n",
       "      <td>272384.173315</td>\n",
       "      <td>9.0</td>\n",
       "      <td>292714.066096</td>\n",
       "    </tr>\n",
       "    <tr>\n",
       "      <th>1</th>\n",
       "      <td>131497.617451</td>\n",
       "      <td>152977.012502</td>\n",
       "      <td>5.0</td>\n",
       "      <td>142237.314976</td>\n",
       "    </tr>\n",
       "    <tr>\n",
       "      <th>2</th>\n",
       "      <td>131497.617451</td>\n",
       "      <td>152977.012502</td>\n",
       "      <td>5.0</td>\n",
       "      <td>142237.314976</td>\n",
       "    </tr>\n",
       "    <tr>\n",
       "      <th>3</th>\n",
       "      <td>267657.373521</td>\n",
       "      <td>242532.383111</td>\n",
       "      <td>8.0</td>\n",
       "      <td>255094.878316</td>\n",
       "    </tr>\n",
       "    <tr>\n",
       "      <th>4</th>\n",
       "      <td>222270.788164</td>\n",
       "      <td>212680.592908</td>\n",
       "      <td>7.0</td>\n",
       "      <td>217475.690536</td>\n",
       "    </tr>\n",
       "  </tbody>\n",
       "</table>\n",
       "</div>"
      ],
      "text/plain": [
       "   y_estimada_sklearn  y_estimada_manual  X_entrenamiento  promedio_sk_man\n",
       "0       313043.958877      272384.173315              9.0    292714.066096\n",
       "1       131497.617451      152977.012502              5.0    142237.314976\n",
       "2       131497.617451      152977.012502              5.0    142237.314976\n",
       "3       267657.373521      242532.383111              8.0    255094.878316\n",
       "4       222270.788164      212680.592908              7.0    217475.690536"
      ]
     },
     "execution_count": 251,
     "metadata": {},
     "output_type": "execute_result"
    }
   ],
   "source": [
    "df_estimada.head(5)"
   ]
  },
  {
   "cell_type": "markdown",
   "id": "38e54434-7919-41f3-a469-d8d808f86f5d",
   "metadata": {},
   "source": [
    "#### Estimando la variable dependiente"
   ]
  },
  {
   "cell_type": "code",
   "execution_count": null,
   "id": "b385b2c8-95cd-4bfa-bb55-453b7b5ce1f4",
   "metadata": {},
   "outputs": [],
   "source": []
  },
  {
   "cell_type": "code",
   "execution_count": null,
   "id": "aa0294f8-9a39-4851-8f00-cb1888c36962",
   "metadata": {},
   "outputs": [],
   "source": []
  }
 ],
 "metadata": {
  "kernelspec": {
   "display_name": "Python 3 (ipykernel)",
   "language": "python",
   "name": "python3"
  },
  "language_info": {
   "codemirror_mode": {
    "name": "ipython",
    "version": 3
   },
   "file_extension": ".py",
   "mimetype": "text/x-python",
   "name": "python",
   "nbconvert_exporter": "python",
   "pygments_lexer": "ipython3",
   "version": "3.9.7"
  }
 },
 "nbformat": 4,
 "nbformat_minor": 5
}
