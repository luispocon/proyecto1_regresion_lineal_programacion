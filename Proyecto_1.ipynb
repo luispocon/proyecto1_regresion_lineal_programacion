{
 "cells": [
  {
   "cell_type": "code",
   "execution_count": 1,
   "id": "808470b4-b692-4f89-bbdc-94b684dcd9c0",
   "metadata": {},
   "outputs": [],
   "source": [
    "# Librerias \n",
    "import pandas as pd\n",
    "import numpy as np\n",
    "import matplotlib.pyplot as plt\n",
    "import sklearn\n",
    "from sklearn.model_selection import train_test_split\n",
    "\n",
    "import seaborn as sns"
   ]
  },
  {
   "cell_type": "code",
   "execution_count": 2,
   "id": "70fb1999-55f6-405d-a958-0b8c497d9878",
   "metadata": {},
   "outputs": [],
   "source": [
    "# Cargando el archivo y agregando el nombre a cada columna\n",
    "df = pd.DataFrame(np.load(\"proyecto_training_data.npy\")\\\n",
    "                  ,columns = ['sale_price','overallquial','stfloor_square','room','year_built','lot_frontage'])"
   ]
  },
  {
   "cell_type": "code",
   "execution_count": null,
   "id": "32937017-8e2c-4cfe-9370-290849e9d6b0",
   "metadata": {},
   "outputs": [],
   "source": [
    "# Verificando el tipo de cada columna\n",
    "df.info()"
   ]
  },
  {
   "cell_type": "code",
   "execution_count": 3,
   "id": "09541576-664e-4c70-b056-e2aded2dbee4",
   "metadata": {},
   "outputs": [],
   "source": [
    "# explorando los datos que LotFrontage: Linear feet of street connected to property tienen datos vacíos\n",
    "# se procedio a colocar la media aritmetica\n",
    "df['lot_frontage'] = df['lot_frontage'].fillna( df['lot_frontage'].mean() )\n",
    "df['lot_frontage'] = df['lot_frontage'].astype(int)\n",
    "df['year_built'] = df['year_built'].astype(int)\n",
    "df[\"valor1\"] = 1\n",
    "                                               "
   ]
  },
  {
   "cell_type": "markdown",
   "id": "0482140e-c9af-4d39-8e8a-2e4941ca4355",
   "metadata": {},
   "source": [
    "### **Separando los datos 80% entrenamiento y 20% prueba**"
   ]
  },
  {
   "cell_type": "code",
   "execution_count": 4,
   "id": "7ac7a7a6-89da-4300-986e-9b888c28587f",
   "metadata": {},
   "outputs": [],
   "source": [
    "X = df.iloc[:,1:].values # seleccionando las variables independientes\n",
    "y = df.iloc[:,:1].values # seleccionando la variable dependiente\n"
   ]
  },
  {
   "cell_type": "code",
   "execution_count": 5,
   "id": "ec730ede-be67-4a9a-b403-a807d8f72140",
   "metadata": {},
   "outputs": [],
   "source": [
    "# Obteniendo el 80% para el entrenamiento y el 20% prueba\n",
    "X_entrenamiento, x_prueba, y_entrenamiento, y_pruebo = train_test_split(X,y, test_size= 0.2 , random_state = 0 )"
   ]
  },
  {
   "cell_type": "code",
   "execution_count": 6,
   "id": "2cdf7abe-15dc-4238-9255-e27aa34b3ff0",
   "metadata": {},
   "outputs": [
    {
     "name": "stdout",
     "output_type": "stream",
     "text": [
      "       overallquial  stfloor_square         room   year_built  lot_frontage  \\\n",
      "count   1168.000000     1168.000000  1168.000000  1168.000000   1168.000000   \n",
      "mean       6.086473     1160.958904     6.544521  1970.890411     69.684075   \n",
      "std        1.367472      373.315037     1.624493    30.407486     20.758010   \n",
      "min        1.000000      334.000000     2.000000  1872.000000     21.000000   \n",
      "25%        5.000000      884.000000     5.000000  1953.750000     60.000000   \n",
      "50%        6.000000     1092.000000     6.000000  1972.000000     70.000000   \n",
      "75%        7.000000     1389.250000     7.000000  2000.000000     79.000000   \n",
      "max       10.000000     3228.000000    14.000000  2010.000000    313.000000   \n",
      "\n",
      "            5  \n",
      "count  1168.0  \n",
      "mean      1.0  \n",
      "std       0.0  \n",
      "min       1.0  \n",
      "25%       1.0  \n",
      "50%       1.0  \n",
      "75%       1.0  \n",
      "max       1.0  \n"
     ]
    }
   ],
   "source": [
    "# obteniendo la media, desviación estandar, valor minimo y máximo, el primer, segundo y tercer cuartil\n",
    "df_entrenamiento = (pd.DataFrame(X_entrenamiento)).rename(columns= {0:'overallquial',1:'stfloor_square',2:'room',3:'year_built',4:'lot_frontage' })\n",
    "print(df_entrenamiento.describe())"
   ]
  },
  {
   "cell_type": "code",
   "execution_count": null,
   "id": "1b773e4e-94cb-4609-8576-ec9c2555b8d2",
   "metadata": {},
   "outputs": [],
   "source": [
    "# Rango\n",
    "print(df_entrenamiento.max(axis= 0) - df_entrenamiento.min(axis= 0))"
   ]
  },
  {
   "cell_type": "code",
   "execution_count": null,
   "id": "46454335-cc26-4cb1-a7fb-d5ebbf61f7b4",
   "metadata": {},
   "outputs": [],
   "source": [
    "sns.set_style(\"darkgrid\")\n",
    "hist1 = sns.histplot(data= df_entrenamiento , x=\"overallquial\",binwidth = 1)\n",
    "hist1.set_title(\"Overall material and finish quality\")\n",
    "hist1.set(ylabel=\"Cantidad\")\n",
    "plt.show()"
   ]
  },
  {
   "cell_type": "code",
   "execution_count": null,
   "id": "03fb4624-473a-4e25-8a70-f038b52df7d9",
   "metadata": {},
   "outputs": [],
   "source": [
    "sns.set_style(\"darkgrid\")\n",
    "hist2 = sns.histplot(data= df_entrenamiento , x=\"stfloor_square\")\n",
    "hist2.set_title(\"First Floor square feet\")\n",
    "hist2.set(ylabel=\"Cantidad\")\n",
    "plt.show()"
   ]
  },
  {
   "cell_type": "code",
   "execution_count": null,
   "id": "74316470-6be3-4c50-943f-d48b8adb7b8d",
   "metadata": {},
   "outputs": [],
   "source": [
    "sns.set_style(\"darkgrid\")\n",
    "hist3 = sns.histplot(data= df_entrenamiento , x=\"room\", binwidth= 1)\n",
    "hist3.set_title(\"Total rooms above grade (does not include bathrooms)\")\n",
    "hist3.set(ylabel=\"Cantidad\")\n",
    "plt.show()"
   ]
  },
  {
   "cell_type": "code",
   "execution_count": null,
   "id": "9b9af7ff-bd78-4663-b80d-a6d62c1409d2",
   "metadata": {},
   "outputs": [],
   "source": [
    "sns.set_style(\"darkgrid\")\n",
    "hist3 = sns.histplot(data= df_entrenamiento , x=\"year_built\")\n",
    "hist3.set_title(\"Original construction date\")\n",
    "hist3.set(ylabel=\"Cantidad\")\n",
    "plt.show()\n"
   ]
  },
  {
   "cell_type": "markdown",
   "id": "a071e0dc-bd89-4d27-8f3d-e96f44e9c0c4",
   "metadata": {},
   "source": [
    "sns.set_style(\"darkgrid\")\n",
    "hist3 = sns.histplot(data= df_entrenamiento , x=\"lot_frontage\")\n",
    "hist3.set_title(\"Linear feet of street connected to property\")\n",
    "hist3.set(ylabel=\"Cantidad\")\n",
    "plt.show()\n"
   ]
  },
  {
   "cell_type": "markdown",
   "id": "13ae79e2-4021-43b7-aa4d-caa930287147",
   "metadata": {},
   "source": [
    "### Regresión lineal"
   ]
  },
  {
   "cell_type": "markdown",
   "id": "7077c557-adf2-46c6-84ea-7dfcaedfac33",
   "metadata": {},
   "source": [
    "${y = \\beta_0 + \\beta_1 X}  $"
   ]
  },
  {
   "cell_type": "markdown",
   "id": "d6a43cb1-96f0-47af-813d-3747d3948559",
   "metadata": {},
   "source": [
    "### Coeficiente de correlacion\n"
   ]
  },
  {
   "cell_type": "markdown",
   "id": "ba7d5138-a6d5-4fc7-8727-75946b844483",
   "metadata": {},
   "source": [
    "$\\hat{\\beta}= (X'X)^{-1} X'Y$"
   ]
  },
  {
   "cell_type": "code",
   "execution_count": null,
   "id": "44387a6a-3380-4654-9151-7f4caf0d93c5",
   "metadata": {},
   "outputs": [],
   "source": [
    "a = np.linalg.inv(np.dot(X_entrenamiento.T,X_entrenamiento))\n",
    "b = np.dot(X_entrenamiento.T, y_entrenamiento[:,0] )\n",
    "#np.dot(a,b)\n"
   ]
  },
  {
   "cell_type": "code",
   "execution_count": null,
   "id": "6cb303f8-2520-454d-98f0-d4925a1ef827",
   "metadata": {},
   "outputs": [],
   "source": []
  },
  {
   "cell_type": "code",
   "execution_count": null,
   "id": "e33f6991-edd1-48ae-bd14-3e9ff9988174",
   "metadata": {},
   "outputs": [],
   "source": [
    "\n",
    "def coeficiente_correlacion(matriz_y, matriz_x):\n",
    "    \"\"\" Función que genera el coeficiente de correlación entre las variables en estudio \"\"\"\n",
    "    lista = ['overallquial','stfloor_square','room','year_built','lot_frontage']\n",
    "    coeficiente = []\n",
    "    for i in range(0,len(matriz_x[0])-1):\n",
    "        coef = np.corrcoef(matriz_y[:,0],matriz_x[:,i])\n",
    "        a = (\"Correlación entre sales_price y \"+ str(lista[i])+\" \"+ str(round ((coef[0][1]),3) ))\n",
    "        coeficiente.append(str(a))\n",
    "    return coeficiente\n",
    "    \n"
   ]
  },
  {
   "cell_type": "code",
   "execution_count": null,
   "id": "03cb7344-ae6b-4bb4-a647-d4a1b255ad30",
   "metadata": {},
   "outputs": [],
   "source": [
    "# Coeficiente de correlación\n",
    "coeficiente_correlacion(y_entrenamiento,X_entrenamiento)"
   ]
  },
  {
   "cell_type": "markdown",
   "id": "febce504-3be7-4f7d-a9ca-c53d30a54c30",
   "metadata": {},
   "source": [
    "##### Gráfica de dispersión"
   ]
  },
  {
   "cell_type": "code",
   "execution_count": null,
   "id": "4e5e1669-7d19-4c72-8a8b-bb9500f6a8ce",
   "metadata": {},
   "outputs": [],
   "source": [
    "def scatter(variable_x, coeficiente=0):\n",
    "    \"\"\" Función que realiza el gráfico de dispersión  \"\"\"\n",
    "    plt.scatter(x = df_entrenamiento[[variable_x]], y= pd.DataFrame(y_entrenamiento),color = 'red')\n",
    "    plt.title(\"sales price and\"+\" \"+variable_x+\" / \"+ \"coef. correlación =\"+coeficiente_correlacion(y_entrenamiento,X_entrenamiento)[coeficiente][-5:]   )\n",
    "    plt.xlabel(variable_x)\n",
    "    plt.ylabel(\"Sales price\")\n",
    "    return plt.show()"
   ]
  },
  {
   "cell_type": "code",
   "execution_count": null,
   "id": "a9e3ccf9-320e-4b7e-b820-d9a5c21025f4",
   "metadata": {},
   "outputs": [],
   "source": [
    "scatter('overallquial') "
   ]
  },
  {
   "cell_type": "code",
   "execution_count": null,
   "id": "ff1d965e-4083-4d2d-9c8c-ae24aca7403b",
   "metadata": {},
   "outputs": [],
   "source": [
    "scatter('stfloor_square',1)"
   ]
  },
  {
   "cell_type": "code",
   "execution_count": null,
   "id": "769ffc96-6c67-46eb-bed4-1f1475f70591",
   "metadata": {},
   "outputs": [],
   "source": [
    "scatter('room',2)"
   ]
  },
  {
   "cell_type": "code",
   "execution_count": null,
   "id": "e1e2d6cd-a0fe-48d1-a680-570f383d8bb6",
   "metadata": {},
   "outputs": [],
   "source": [
    "scatter('year_built',3)"
   ]
  },
  {
   "cell_type": "code",
   "execution_count": null,
   "id": "8157efb7-184e-493d-875f-9a9884672539",
   "metadata": {},
   "outputs": [],
   "source": [
    "scatter('lot_frontage',4)\n"
   ]
  },
  {
   "cell_type": "code",
   "execution_count": null,
   "id": "130c0340-4e9e-43df-88a7-8d072c2220dc",
   "metadata": {},
   "outputs": [],
   "source": []
  },
  {
   "cell_type": "code",
   "execution_count": null,
   "id": "d39c3e63-1d52-4b33-b448-b7d2e05bc583",
   "metadata": {},
   "outputs": [],
   "source": []
  },
  {
   "cell_type": "code",
   "execution_count": 33,
   "id": "1c11c700-bfba-4934-a9f2-8597b328af8c",
   "metadata": {},
   "outputs": [],
   "source": [
    "def calcular_modelo(w,b,x):\n",
    "    '''Retorna el valor w*x+b correspondiente al modelo lineal'''\n",
    "    return w*x+b"
   ]
  },
  {
   "cell_type": "code",
   "execution_count": 34,
   "id": "1e817933-5177-4aae-8508-5b463e993bb9",
   "metadata": {},
   "outputs": [],
   "source": [
    "def calcular_error(y,y_):\n",
    "    '''Calcula el error cuadrático medio entre el dato original (y)\n",
    "       y el dato generado por el modelo (y_)'''\n",
    "    N = y.shape[0]\n",
    "    error = np.sum((y-y_)**2)/N\n",
    "    return error\n",
    "    "
   ]
  },
  {
   "cell_type": "code",
   "execution_count": 35,
   "id": "f167cc6a-9105-45c7-b085-135c91d007b9",
   "metadata": {},
   "outputs": [],
   "source": [
    "def gradiente_descendente(w_, b_, alpha, x, y):\n",
    "    '''Algoritmo del gradiente descendente para minimizar el error\n",
    "       cuadrático medio'''\n",
    "    N = x.shape[0]      # Cantidad de datos\n",
    "\n",
    "    # Gradientes: derivadas de la función de error con respecto\n",
    "    # a los parámetros \"w\" y \"b\"\n",
    "    dw = -(2/N)*np.sum(x*(y-(w_*x+b_)))\n",
    "    db = -(2/N)*np.sum(y-(w_*x+b_))\n",
    "\n",
    "    # Actualizar los pesos usando la fórmula del gradiente descendente\n",
    "    w = w_ - alpha*dw\n",
    "    b = b_ - alpha*db\n",
    "\n",
    "    return w, b"
   ]
  },
  {
   "cell_type": "code",
   "execution_count": 36,
   "id": "2cb0ce06-83c0-4eb1-b7e1-3c380b06ae3f",
   "metadata": {},
   "outputs": [],
   "source": [
    "\n",
    "x = X_entrenamiento[:,0]\n",
    "y = y_entrenamiento[:,0]"
   ]
  },
  {
   "cell_type": "code",
   "execution_count": 37,
   "id": "5c0241b9-9abf-4ee6-bd32-b8e26b308d6e",
   "metadata": {},
   "outputs": [],
   "source": [
    "np.random.seed(2)\n",
    "w = np.random.randn(1)[0]\n",
    "b = np.random.randn(1)[0]"
   ]
  },
  {
   "cell_type": "code",
   "execution_count": 38,
   "id": "9c4a9933-9327-46fa-aecb-0bc1a131253f",
   "metadata": {},
   "outputs": [],
   "source": [
    "alpha = 0.0004\n",
    "nits = 40000"
   ]
  },
  {
   "cell_type": "code",
   "execution_count": 42,
   "id": "04e4c9a7-e75b-41b4-a7e3-d8988704be95",
   "metadata": {},
   "outputs": [
    {
     "name": "stdout",
     "output_type": "stream",
     "text": [
      "Epoch 1000\n",
      "    w: 42017.1  b: -73918.6\n",
      "    error: [2.33043771e+09]\n",
      "=======================================\n",
      "Epoch 2000\n",
      "    w: 42141.1  b: -74710.4\n",
      "    error: [2.32883177e+09]\n",
      "=======================================\n",
      "Epoch 3000\n",
      "    w: 42260.5  b: -75473.1\n",
      "    error: [2.32734184e+09]\n",
      "=======================================\n",
      "Epoch 4000\n",
      "    w: 42375.6  b: -76207.7\n",
      "    error: [2.32595956e+09]\n",
      "=======================================\n",
      "Epoch 5000\n",
      "    w: 42486.4  b: -76915.2\n",
      "    error: [2.32467714e+09]\n",
      "=======================================\n",
      "Epoch 6000\n",
      "    w: 42593.1  b: -77596.7\n",
      "    error: [2.32348736e+09]\n",
      "=======================================\n",
      "Epoch 7000\n",
      "    w: 42695.9  b: -78253.2\n",
      "    error: [2.32238354e+09]\n",
      "=======================================\n",
      "Epoch 8000\n",
      "    w: 42794.9  b: -78885.5\n",
      "    error: [2.32135946e+09]\n",
      "=======================================\n",
      "Epoch 9000\n",
      "    w: 42890.3  b: -79494.5\n",
      "    error: [2.32040937e+09]\n",
      "=======================================\n",
      "Epoch 10000\n",
      "    w: 42982.1  b: -80081.1\n",
      "    error: [2.31952791e+09]\n",
      "=======================================\n",
      "Epoch 11000\n",
      "    w: 43070.6  b: -80646.1\n",
      "    error: [2.31871014e+09]\n",
      "=======================================\n",
      "Epoch 12000\n",
      "    w: 43155.8  b: -81190.3\n",
      "    error: [2.31795144e+09]\n",
      "=======================================\n",
      "Epoch 13000\n",
      "    w: 43237.9  b: -81714.5\n",
      "    error: [2.31724756e+09]\n",
      "=======================================\n",
      "Epoch 14000\n",
      "    w: 43317.0  b: -82219.5\n",
      "    error: [2.31659452e+09]\n",
      "=======================================\n",
      "Epoch 15000\n",
      "    w: 43393.2  b: -82705.8\n",
      "    error: [2.31598867e+09]\n",
      "=======================================\n",
      "Epoch 16000\n",
      "    w: 43466.5  b: -83174.2\n",
      "    error: [2.31542658e+09]\n",
      "=======================================\n",
      "Epoch 17000\n",
      "    w: 43537.2  b: -83625.4\n",
      "    error: [2.3149051e+09]\n",
      "=======================================\n",
      "Epoch 18000\n",
      "    w: 43605.2  b: -84060.0\n",
      "    error: [2.3144213e+09]\n",
      "=======================================\n",
      "Epoch 19000\n",
      "    w: 43670.8  b: -84478.6\n",
      "    error: [2.31397245e+09]\n",
      "=======================================\n",
      "Epoch 20000\n",
      "    w: 43733.9  b: -84881.8\n",
      "    error: [2.31355602e+09]\n",
      "=======================================\n",
      "Epoch 21000\n",
      "    w: 43794.7  b: -85270.2\n",
      "    error: [2.31316968e+09]\n",
      "=======================================\n",
      "Epoch 22000\n",
      "    w: 43853.3  b: -85644.2\n",
      "    error: [2.31281125e+09]\n",
      "=======================================\n",
      "Epoch 23000\n",
      "    w: 43909.7  b: -86004.5\n",
      "    error: [2.31247871e+09]\n",
      "=======================================\n",
      "Epoch 24000\n",
      "    w: 43964.1  b: -86351.6\n",
      "    error: [2.3121702e+09]\n",
      "=======================================\n",
      "Epoch 25000\n",
      "    w: 44016.4  b: -86685.9\n",
      "    error: [2.31188397e+09]\n",
      "=======================================\n",
      "Epoch 26000\n",
      "    w: 44066.9  b: -87007.8\n",
      "    error: [2.31161843e+09]\n",
      "=======================================\n",
      "Epoch 27000\n",
      "    w: 44115.4  b: -87318.0\n",
      "    error: [2.31137206e+09]\n",
      "=======================================\n",
      "Epoch 28000\n",
      "    w: 44162.2  b: -87616.7\n",
      "    error: [2.3111435e+09]\n",
      "=======================================\n",
      "Epoch 29000\n",
      "    w: 44207.3  b: -87904.4\n",
      "    error: [2.31093145e+09]\n",
      "=======================================\n",
      "Epoch 30000\n",
      "    w: 44250.6  b: -88181.5\n",
      "    error: [2.31073472e+09]\n",
      "=======================================\n",
      "Epoch 31000\n",
      "    w: 44292.5  b: -88448.4\n",
      "    error: [2.3105522e+09]\n",
      "=======================================\n",
      "Epoch 32000\n",
      "    w: 44332.7  b: -88705.6\n",
      "    error: [2.31038286e+09]\n",
      "=======================================\n",
      "Epoch 33000\n",
      "    w: 44371.5  b: -88953.2\n",
      "    error: [2.31022576e+09]\n",
      "=======================================\n",
      "Epoch 34000\n",
      "    w: 44408.8  b: -89191.7\n",
      "    error: [2.31008001e+09]\n",
      "=======================================\n",
      "Epoch 35000\n",
      "    w: 44444.8  b: -89421.5\n",
      "    error: [2.30994479e+09]\n",
      "=======================================\n",
      "Epoch 36000\n",
      "    w: 44479.5  b: -89642.8\n",
      "    error: [2.30981934e+09]\n",
      "=======================================\n",
      "Epoch 37000\n",
      "    w: 44512.9  b: -89856.0\n",
      "    error: [2.30970295e+09]\n",
      "=======================================\n",
      "Epoch 38000\n",
      "    w: 44545.0  b: -90061.3\n",
      "    error: [2.30959497e+09]\n",
      "=======================================\n",
      "Epoch 39000\n",
      "    w: 44576.0  b: -90259.0\n",
      "    error: [2.30949479e+09]\n",
      "=======================================\n",
      "Epoch 40000\n",
      "    w: 44605.8  b: -90449.5\n",
      "    error: [2.30940185e+09]\n",
      "=======================================\n"
     ]
    }
   ],
   "source": [
    "error = np.zeros((nits,1))\n",
    "for i in range(nits):\n",
    "    # Actualizar valor de los pesos usando el gradiente descendente\n",
    "    [w, b] = gradiente_descendente(w,b,alpha,x,y)\n",
    "\n",
    "    # Calcular el valor de la predicción\n",
    "    y_ = calcular_modelo(w,b,x)\n",
    "\n",
    "    # Actualizar el valor del error\n",
    "    error[i] = calcular_error(y,y_)\n",
    "\n",
    "    # Imprimir resultados cada 1000 epochs\n",
    "    if (i+1)%1000 == 0:\n",
    "        print(\"Epoch {}\".format(i+1))\n",
    "        print(\"    w: {:.1f}\".format(w), \" b: {:.1f}\".format(b))\n",
    "        print(\"    error: {}\".format(error[i]))\n",
    "        print(\"=======================================\")"
   ]
  },
  {
   "cell_type": "code",
   "execution_count": 51,
   "id": "2eb60d3c-061f-40fa-a188-7ca2c28f18b9",
   "metadata": {},
   "outputs": [
    {
     "data": {
      "image/png": "[encoded data removed]",
      "text/plain": [
       "<Figure size 432x288 with 1 Axes>"
      ]
     },
     "metadata": {
      "needs_background": "light"
     },
     "output_type": "display_data"
    }
   ],
   "source": [
    "plt.plot(range(nits),error)\n",
    "plt.xlabel('epoch')\n",
    "plt.ylabel('ECM')\n",
    "plt.show()"
   ]
  },
  {
   "cell_type": "code",
   "execution_count": 62,
   "id": "3969096d-228e-40c5-80b6-27ea4270824a",
   "metadata": {},
   "outputs": [
    {
     "data": {
      "text/plain": [
       "[<matplotlib.lines.Line2D at 0x1ca730f3a30>]"
      ]
     },
     "execution_count": 62,
     "metadata": {},
     "output_type": "execute_result"
    },
    {
     "data": {
      "image/png": "[encoded data removed]",
      "text/plain": [
       "<Figure size 432x288 with 1 Axes>"
      ]
     },
     "metadata": {
      "needs_background": "light"
     },
     "output_type": "display_data"
    }
   ],
   "source": [
    "plt.plot(error)"
   ]
  },
  {
   "cell_type": "code",
   "execution_count": 54,
   "id": "b22cebf5-ed45-45c1-8193-5c5e84d9aa1b",
   "metadata": {},
   "outputs": [
    {
     "data": {
      "image/png": "[encoded data removed]",
      "text/plain": [
       "<Figure size 432x288 with 1 Axes>"
      ]
     },
     "metadata": {
      "needs_background": "light"
     },
     "output_type": "display_data"
    }
   ],
   "source": [
    "y_regr = calcular_modelo(w,b,x)\n",
    "plt.scatter(x,y)\n",
    "plt.plot(x,y_regr,'r')\n",
    "plt.xlabel('x')\n",
    "plt.ylabel('y')\n",
    "plt.show()"
   ]
  },
  {
   "cell_type": "code",
   "execution_count": null,
   "id": "0d24f005-0d4d-4813-84cf-1965fb91eda7",
   "metadata": {},
   "outputs": [],
   "source": []
  },
  {
   "cell_type": "code",
   "execution_count": null,
   "id": "897ff7a1-cb79-48c8-92f6-45b6f08495f4",
   "metadata": {},
   "outputs": [],
   "source": []
  },
  {
   "cell_type": "code",
   "execution_count": 14,
   "id": "f1029cd6-a5e4-4ddb-8423-9b6bf05e5296",
   "metadata": {},
   "outputs": [],
   "source": [
    "X = X_entrenamiento[:,0]\n",
    "Y = y_entrenamiento[:,0].reshape(X.size, 1)\n",
    "X = np.vstack((np.ones((X.size, )), X)).T"
   ]
  },
  {
   "cell_type": "code",
   "execution_count": 17,
   "id": "0877af07-7c2f-49c3-b73b-de9a543c6b6a",
   "metadata": {},
   "outputs": [
    {
     "name": "stdout",
     "output_type": "stream",
     "text": [
      "(1168, 2)\n",
      "(1168, 1)\n"
     ]
    }
   ],
   "source": [
    "print(X.shape)\n",
    "print(Y.shape)"
   ]
  },
  {
   "cell_type": "code",
   "execution_count": 18,
   "id": "e9b3981c-5112-48ad-952e-efbbf4d0de77",
   "metadata": {},
   "outputs": [
    {
     "data": {
      "image/png": "[encoded data removed]",
      "text/plain": [
       "<Figure size 432x288 with 1 Axes>"
      ]
     },
     "metadata": {
      "needs_background": "light"
     },
     "output_type": "display_data"
    }
   ],
   "source": [
    "plt.scatter(X[:, 1], Y)\n",
    "plt.show()"
   ]
  },
  {
   "cell_type": "code",
   "execution_count": 44,
   "id": "2cead1cd-59b8-4459-933a-e8cb0a52d094",
   "metadata": {},
   "outputs": [],
   "source": [
    "def model(X, Y, learning_rate, iteration):\n",
    "    m = Y.size\n",
    "    theta = np.zeros((2, 1))\n",
    "    cost_list = []\n",
    "    for i in range(iteration):\n",
    "        y_pred = np.dot(X, theta)\n",
    "        cost = (1/(2*m))*np.sum(np.square(y_pred - Y))\n",
    "        d_theta = (1/m)*np.dot(X.T, y_pred - Y)\n",
    "        theta = theta - learning_rate*d_theta\n",
    "        cost_list.append(cost)\n",
    "    return theta, cost_list"
   ]
  },
  {
   "cell_type": "code",
   "execution_count": 52,
   "id": "87473433-1300-40fd-aaf0-e2c4a07f7e51",
   "metadata": {},
   "outputs": [],
   "source": [
    "iteration = 40000\n",
    "learning_rate = 0.0004\n",
    "theta, cost_list = model(X, Y, learning_rate = learning_rate,\n",
    "iteration = iteration)"
   ]
  },
  {
   "cell_type": "code",
   "execution_count": 53,
   "id": "12bcb1e7-083b-49b1-97cb-890482296d8c",
   "metadata": {},
   "outputs": [
    {
     "data": {
      "image/png": "[encoded data removed]",
      "text/plain": [
       "<Figure size 432x288 with 1 Axes>"
      ]
     },
     "metadata": {
      "needs_background": "light"
     },
     "output_type": "display_data"
    }
   ],
   "source": [
    "rng = np.arange(0, iteration)\n",
    "plt.plot(cost_list, rng)\n",
    "plt.show()"
   ]
  },
  {
   "cell_type": "code",
   "execution_count": 69,
   "id": "302aafb3-fa8f-41b4-88b7-48dec3747798",
   "metadata": {},
   "outputs": [
    {
     "data": {
      "image/png": "[encoded data removed]",
      "text/plain": [
       "<Figure size 432x288 with 1 Axes>"
      ]
     },
     "metadata": {
      "needs_background": "light"
     },
     "output_type": "display_data"
    }
   ],
   "source": [
    "plt.plot(range(nits),error)\n",
    "plt.xlabel('epoch')\n",
    "plt.ylabel('ECM')\n",
    "plt.show()"
   ]
  },
  {
   "cell_type": "code",
   "execution_count": 103,
   "id": "3a853d88-b315-4154-ba17-b4a06c16af2b",
   "metadata": {},
   "outputs": [
    {
     "data": {
      "image/png": "[encoded data removed]",
      "text/plain": [
       "<Figure size 432x288 with 1 Axes>"
      ]
     },
     "metadata": {
      "needs_background": "light"
     },
     "output_type": "display_data"
    }
   ],
   "source": [
    "plt.plot(range(iteration),np.array(cost_list).reshape(len(cost_list),1) )\n",
    "plt.xlabel('epoch')\n",
    "plt.ylabel('ECM')\n",
    "plt.show()"
   ]
  },
  {
   "cell_type": "code",
   "execution_count": null,
   "id": "6864e2c1-fb77-480c-b4af-6766be81b7e7",
   "metadata": {},
   "outputs": [],
   "source": []
  },
  {
   "cell_type": "code",
   "execution_count": null,
   "id": "cb579a7f-225e-4f91-b2d7-812d2a2cb844",
   "metadata": {},
   "outputs": [],
   "source": []
  },
  {
   "cell_type": "code",
   "execution_count": null,
   "id": "d93caf63-7592-4413-987a-428a9017fad6",
   "metadata": {},
   "outputs": [],
   "source": []
  },
  {
   "cell_type": "code",
   "execution_count": null,
   "id": "69e32a6a-2471-4f5a-879b-ca8566f60e8b",
   "metadata": {},
   "outputs": [],
   "source": []
  },
  {
   "cell_type": "code",
   "execution_count": null,
   "id": "7d955a75-1fe6-40da-9532-60b24be1b717",
   "metadata": {},
   "outputs": [],
   "source": []
  },
  {
   "cell_type": "code",
   "execution_count": null,
   "id": "9e81e5ac-548f-4a93-8803-d54276351b41",
   "metadata": {},
   "outputs": [],
   "source": []
  },
  {
   "cell_type": "code",
   "execution_count": 93,
   "id": "f909002a-4122-4220-b6c5-2f784a366da9",
   "metadata": {},
   "outputs": [],
   "source": []
  },
  {
   "cell_type": "code",
   "execution_count": null,
   "id": "32d7d2a6-e00a-4e65-906e-4768d7581b84",
   "metadata": {},
   "outputs": [],
   "source": []
  },
  {
   "cell_type": "code",
   "execution_count": null,
   "id": "569a5598-8afd-491a-8318-df932a75de3b",
   "metadata": {},
   "outputs": [],
   "source": []
  }
 ],
 "metadata": {
  "kernelspec": {
   "display_name": "Python 3 (ipykernel)",
   "language": "python",
   "name": "python3"
  },
  "language_info": {
   "codemirror_mode": {
    "name": "ipython",
    "version": 3
   },
   "file_extension": ".py",
   "mimetype": "text/x-python",
   "name": "python",
   "nbconvert_exporter": "python",
   "pygments_lexer": "ipython3",
   "version": "3.9.7"
  }
 },
 "nbformat": 4,
 "nbformat_minor": 5
}
